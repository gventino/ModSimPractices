{
 "cells": [
  {
   "cell_type": "markdown",
   "metadata": {},
   "source": [
    "1) Como vimos em aula, é possível usar Poisson para modelar uma pesca. Suponha que um\n",
    "pescador pesca por 10 horas com taxa de chegada de peixes λ = 1/h. Agora, suponha também\n",
    "que, após cada peixe pescado, o pescador interrompe a pesca e gasta meia hora limpando o\n",
    "peixe antes de retomar a pescaria. a) Plote um exemplo dessa pesca. b) Usando Monte Carlo,\n",
    "gere um gráfico da probabilidade de cada quantidade de peixes pescados (isto é, um gráfico de\n",
    "Nº de Peixes X Probabilidade, que mostre qual a probabilidade de a pescaria resultar em 0, 1,\n",
    "2, 3,... peixes). c) Analisando os resultados anteriores, essa pescaria continua sendo bem\n",
    "modelada como um processo de Poisson? Justifique."
   ]
  },
  {
   "cell_type": "code",
   "execution_count": null,
   "metadata": {},
   "outputs": [],
   "source": []
  },
  {
   "cell_type": "markdown",
   "metadata": {},
   "source": [
    "2) Considere o exercício das 2 máquinas (exercício 4, slides de aula de cadeia de Markov Contínua).\n",
    "Simule e plote os resultados do tempo que as máquinas passam em cada estado para vários pares\n",
    "de valores de (λ, μ). Analise e comente os resultados."
   ]
  },
  {
   "cell_type": "code",
   "execution_count": null,
   "metadata": {},
   "outputs": [],
   "source": []
  },
  {
   "cell_type": "markdown",
   "metadata": {},
   "source": [
    "3) Considere o exercício do Spa (exercício 5, slides de aula de cadeia de Markov Contínua).\n",
    "\n",
    "a) Considerando μ1 = μ2 = 1, simule o problema e plote o gráfico do número médio de\n",
    "pessoas no sistema (L) pela taxa de chegada (λ).\n",
    "\n",
    "b) Fixando a taxa de chegada em λ = 0.8, simule o problema e plote o gráfico do número\n",
    "médio de pessoas no sistema (L) e o tempo de espera (W) pelo tamanho permitido da\n",
    "fila de espera (E). Considere que segundo o enunciado original, a fila de espera do Spa\n",
    "tem tamanho 0, mas que agora é possível que haja pessoas no Spa aguardando\n",
    "serviço."
   ]
  },
  {
   "cell_type": "code",
   "execution_count": null,
   "metadata": {},
   "outputs": [],
   "source": []
  },
  {
   "cell_type": "markdown",
   "metadata": {},
   "source": [
    "4) Considere uma fila de banco M/M/1 com taxa de chegada λ = 1 e taxa de serviço μ = 1.2.\n",
    "Considere ainda que cada cliente que chega tem uma probabilidade P de ser um cliente\n",
    "Preferencial, e que o cliente preferencial passa na frente de todos os clientes regulares.\n",
    "\n",
    "Sa) Simule e plote o gráfico do tempo médio de espera W por alguns valores de P (inclua\n",
    "P=0).\n",
    "\n",
    "b) Simule e plote um boxplot (também chamado de box & whisker plot) do tempo de\n",
    "espera por alguns valores de P (inclua P=0)."
   ]
  },
  {
   "cell_type": "code",
   "execution_count": null,
   "metadata": {},
   "outputs": [],
   "source": []
  },
  {
   "cell_type": "markdown",
   "metadata": {},
   "source": [
    "5) Compare o tempo de espera (W) de 2 filas M/M/1 independentes com taxa de chegada λ = 1\n",
    "cada uma e de 1 fila única M/M/2 com taxa de chegada λ = 2. Calcule o tempo médio que um\n",
    "atendente fica ocioso em cada caso. Assuma a mesma taxa de serviço para todos os\n",
    "atendentes."
   ]
  },
  {
   "cell_type": "code",
   "execution_count": null,
   "metadata": {},
   "outputs": [],
   "source": []
  },
  {
   "cell_type": "markdown",
   "metadata": {},
   "source": [
    "6) Considere a rede de filas M/M/1 da figura abaixo, representando um trecho de avenidas de\n",
    "uma grande cidade, com cada fila representando um cruzamento congestionado. Considere os\n",
    "valores: λ1 = 10, λ2 = 14, μA = 15, μB = 30, μC = 24, μD = 20, μE = 6 (dados em veículos por\n",
    "minuto). A prefeitura deseja realizar obras para melhorar o fluxo de veículos em um dos 5\n",
    "cruzamentos (isto é, aumentar a taxa de serviço), visando reduzir o tempo médio de espera\n",
    "(W) na rede. Mostre por simulação e discuta qual o cruzamento seria o melhor candidato para\n",
    "a melhoria."
   ]
  },
  {
   "cell_type": "code",
   "execution_count": null,
   "metadata": {},
   "outputs": [],
   "source": []
  }
 ],
 "metadata": {
  "kernelspec": {
   "display_name": "venv",
   "language": "python",
   "name": "python3"
  },
  "language_info": {
   "codemirror_mode": {
    "name": "ipython",
    "version": 3
   },
   "file_extension": ".py",
   "mimetype": "text/x-python",
   "name": "python",
   "nbconvert_exporter": "python",
   "pygments_lexer": "ipython3",
   "version": "3.12.3"
  }
 },
 "nbformat": 4,
 "nbformat_minor": 2
}
