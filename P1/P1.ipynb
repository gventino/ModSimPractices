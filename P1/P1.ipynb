{
 "cells": [
  {
   "cell_type": "markdown",
   "metadata": {},
   "source": [
    "1. Plote um gráfico de T por N, onde T é o tempo médio que demora para conseguirmos pelo menos N caras consecutivas em uma sequência de lançamentos consecutivos de moedas."
   ]
  },
  {
   "cell_type": "code",
   "execution_count": 52,
   "metadata": {},
   "outputs": [
    {
     "name": "stdout",
     "output_type": "stream",
     "text": [
      "[0.0, 1.97, 6.91, 15.1, 27.82, 66.77, 144.47, 232.63, 539.69, 1152.59]\n"
     ]
    },
    {
     "data": {
      "text/plain": [
       "[<matplotlib.lines.Line2D at 0x7fae61d285d0>]"
      ]
     },
     "execution_count": 52,
     "metadata": {},
     "output_type": "execute_result"
    },
    {
     "data": {
      "image/png": "[encoded data removed]",
      "text/plain": [
       "<Figure size 640x480 with 1 Axes>"
      ]
     },
     "metadata": {},
     "output_type": "display_data"
    }
   ],
   "source": [
    "import matplotlib.pyplot as plt\n",
    "import numpy as np\n",
    "\n",
    "sims = 100\n",
    "N = range(10)\n",
    "T = [0]*10\n",
    "\n",
    "for n in N:\n",
    "    for sim in range(sims):\n",
    "        ct = 0\n",
    "        while ct!=n:\n",
    "            if np.random.randint(0,2) == 0:\n",
    "                ct+=1\n",
    "            else:\n",
    "                ct=0\n",
    "            T[n] += 1\n",
    "    T[n] /= sims\n",
    "print(T)\n",
    "plt.plot(N,T)\n"
   ]
  },
  {
   "cell_type": "markdown",
   "metadata": {},
   "source": [
    "2. No jogo Dungeons & Dragons, quando um jogador ataca um monstro, ele deve rolar um dado de 20 lados (chamado de d20).\n",
    "\n",
    "2.1 Uma habilidade chamada “Vantagem” permite que o\n",
    "jogador jogue 2 dados d20 e escolha o melhor resultado. Na média, quão melhor é uma rolagem usando “Vantagem” do que uma rolagem comum (de apenas um dado)?"
   ]
  },
  {
   "cell_type": "code",
   "execution_count": 136,
   "metadata": {},
   "outputs": [
    {
     "name": "stdout",
     "output_type": "stream",
     "text": [
      "vant: 13.5514\n",
      "normal: 9.9047\n"
     ]
    }
   ],
   "source": [
    "import matplotlib.pyplot as plt\n",
    "import numpy as np\n",
    "\n",
    "sims = 10000\n",
    "dados = 0\n",
    "vant = 0\n",
    "\n",
    "for sim in range(sims):\n",
    "    dado = np.random.randint(21)\n",
    "    dados += dado\n",
    "    vant += max([np.random.randint(21), np.random.randint(21)])\n",
    "\n",
    "dados /= sims\n",
    "vant /= sims\n",
    "\n",
    "print(f'vant: {vant}')\n",
    "print(f'normal: {dados}')\n",
    "# Eh melhor usar rolagens com vantagem do que rolagens normais"
   ]
  },
  {
   "cell_type": "markdown",
   "metadata": {},
   "source": [
    "2.2 Suponha que um ataque como descrito acima acerta o monstro se o resultado obtido na rolagem for maior ou igual que a defesa do monstro (D). Em outras palavras, um ataque é bem sucedido se e somente se d20 >= D. Plote 2 gráficos de A por D, onde A é a porcentagem de ataques bem-sucedidos e D é o valor de defesa do monstro variando de 1 a 20, uma linha representando o ataque sem Vantagem e outra com Vantagem (veja exemplo abaixo)."
   ]
  },
  {
   "cell_type": "code",
   "execution_count": null,
   "metadata": {},
   "outputs": [],
   "source": [
    "import matplotlib.pyplot as plt\n",
    "import numpy as np\n",
    "sims = 1000\n",
    "D = range(1,21,1)\n",
    "normal = [0]*len(D)\n",
    "vant = [0]*len(D)\n",
    "for ac in D:\n",
    "    for sim in range(sims):\n",
    "        dado = np.random.randint(21)\n",
    "        if dado >= ac:\n",
    "            normal[ac]+=1\n",
    "        vantagem = max([np.random.randint(21),np.random.randint(21)])\n",
    "        if vantagem >= ac:\n",
    "            vant[ac]+=1\n",
    "        "
   ]
  },
  {
   "cell_type": "markdown",
   "metadata": {},
   "source": [
    "2.3  Você diria que a importância da habilidade “Vantagem” muda conforme D aumenta?"
   ]
  },
  {
   "cell_type": "code",
   "execution_count": null,
   "metadata": {},
   "outputs": [],
   "source": []
  },
  {
   "cell_type": "markdown",
   "metadata": {},
   "source": [
    "3. Suponha que você tem N moedas. Você lança todas elas aleatoriamente e elas saem como cara ou coroa. Então, você seleciona apenas as que saíram como coroa e as lança novamente. Depois do lançamento, você seleciona as que saíram coroa e repete o processo até que todas saiam como cara. Simule o número esperado de lançamentos em função de N."
   ]
  },
  {
   "cell_type": "code",
   "execution_count": null,
   "metadata": {},
   "outputs": [],
   "source": []
  },
  {
   "cell_type": "markdown",
   "metadata": {},
   "source": [
    "4. Mostre por simulação o curioso resultado de que, para um par de filhos A e B, a probabilidade de que ambos sejam do sexo masculino dado que um deles é do sexo masculino não é 50%."
   ]
  },
  {
   "cell_type": "code",
   "execution_count": null,
   "metadata": {},
   "outputs": [],
   "source": []
  },
  {
   "cell_type": "markdown",
   "metadata": {},
   "source": [
    "5. Uma questão interessante em teoria de probabilidade é o problema do aniversário, que versa sobre a probabilidade de 2 pessoas de um grupo fazerem aniversário em um mesmo dia do ano.\n",
    "\n",
    "5.1 Plote um gráfico de P por N simulando a probabilidade P de 2 pessoas quaisquer fizeram aniversário no mesmo dia em um grupo de N pessoas."
   ]
  },
  {
   "cell_type": "code",
   "execution_count": null,
   "metadata": {},
   "outputs": [],
   "source": []
  },
  {
   "cell_type": "markdown",
   "metadata": {},
   "source": [
    "5.2 Plote o mesmo gráfico para 3 pessoas."
   ]
  },
  {
   "cell_type": "code",
   "execution_count": null,
   "metadata": {},
   "outputs": [],
   "source": []
  },
  {
   "cell_type": "markdown",
   "metadata": {},
   "source": [
    "6) Assuma que um bêbado está abraçado a um poste no ponto de coordenada (0,0). Considere que o bêbado decide ir para casa, mas em seu estado inebriado ele caminha 1 metro em em uma direção aleatória a cada passo. \n",
    "\n",
    "6.2 Plote o histograma do número de passos que o bêbado\n",
    "leva para alcançar uma distância maior que 5 metros em relação ao poste. "
   ]
  },
  {
   "cell_type": "code",
   "execution_count": null,
   "metadata": {},
   "outputs": [],
   "source": []
  },
  {
   "cell_type": "markdown",
   "metadata": {},
   "source": [
    "6.3 Plote um gráfico D por N, mostrando a distância média D que o bêbado está do poste após N passos."
   ]
  },
  {
   "cell_type": "code",
   "execution_count": null,
   "metadata": {},
   "outputs": [],
   "source": []
  },
  {
   "cell_type": "markdown",
   "metadata": {},
   "source": [
    "7) A figura do final da lista mostra a América do Sul como um grafo de adjacências de países. Suponha um processo markoviano em que, a cada passo, um turista viaja de um país para outro do grafo. A cada passo, o turista sai do país atual e tem probabilidade igual de escolher qualquer um dos países adjacentes como destino. \n",
    "\n",
    "7.1 Qual a probabilidade de, após um número grande de passos, o turista estar no Brasil? "
   ]
  },
  {
   "cell_type": "code",
   "execution_count": null,
   "metadata": {},
   "outputs": [],
   "source": []
  },
  {
   "cell_type": "markdown",
   "metadata": {},
   "source": [
    "7.2 Quantos passos em média o turista precisa dar para visitar pelo menos uma vez cada país do grafo? "
   ]
  },
  {
   "cell_type": "code",
   "execution_count": null,
   "metadata": {},
   "outputs": [],
   "source": []
  },
  {
   "cell_type": "markdown",
   "metadata": {},
   "source": [
    "7.3 Qual a probabilidade de um turista que está agora no Brasil estar ainda no Brasil daqui 2, 3 ou 4 passos? "
   ]
  },
  {
   "cell_type": "code",
   "execution_count": null,
   "metadata": {},
   "outputs": [],
   "source": []
  },
  {
   "cell_type": "markdown",
   "metadata": {},
   "source": [
    "7.4 Qual a probabilidade que em uma caminhada de 10 passos começando no Brasil o turista não visite o Chile?"
   ]
  },
  {
   "cell_type": "code",
   "execution_count": null,
   "metadata": {},
   "outputs": [],
   "source": []
  },
  {
   "cell_type": "markdown",
   "metadata": {},
   "source": [
    "8. No jogo banco imobiliário, você joga 2d6 (obtendo um resultado de 2 a 12) e anda esse número de espaços ao redor do tabuleiro (veja por exemplo a imagem do tabuleiro no final desta lista). Os espaços com retângulos coloridos representam propriedades imobiliárias (ignore os efeitos dos outros espaços).\n",
    "\n",
    "8.1 Considerando que uma partida de Banco Imobiliário demora um tempo tendendo a infinito (como qualquer pessoa que já jogou Banco Imobiliário pode confirmar), qual a probabilidade de cairmos em cada propriedade após um número muito grande de jogadas? "
   ]
  },
  {
   "cell_type": "code",
   "execution_count": null,
   "metadata": {},
   "outputs": [],
   "source": []
  },
  {
   "cell_type": "markdown",
   "metadata": {},
   "source": [
    "\n",
    "8.2 Considerando agora que ao parar no espaço do canto superior direito do tabuleiro (“vá para a prisão”), o jogador é transportado para o espaço inferior esquerdo (“prisão”), simule novamente as probabilidades. "
   ]
  },
  {
   "cell_type": "code",
   "execution_count": null,
   "metadata": {},
   "outputs": [],
   "source": []
  },
  {
   "cell_type": "markdown",
   "metadata": {},
   "source": [
    "8.3 Considerando que as melhores propriedades imobiliárias são aquelas onde os jogadores param com frequência, qual você diria que é a melhor cor de propriedades no tabuleiro?"
   ]
  },
  {
   "cell_type": "code",
   "execution_count": null,
   "metadata": {},
   "outputs": [],
   "source": []
  },
  {
   "cell_type": "markdown",
   "metadata": {},
   "source": [
    "9) Os times de futebol Vermelho FC e Azul FC jogam uma partida. Suponha que os times marcam gols de forma independente seguindo processos de Poisson com taxas de chegada λv = 2/partida e λa = 3/partida. Qual a taxa de partidas que podemos esperar que o time Vermelho FC ganha? \n"
   ]
  },
  {
   "cell_type": "code",
   "execution_count": null,
   "metadata": {},
   "outputs": [],
   "source": []
  },
  {
   "cell_type": "markdown",
   "metadata": {},
   "source": [
    "\n",
    "9.1 Resolva o mesmo exercício para os times de basquete RedCats e BlueDogs, assumindo taxas de chegada de pontos de λr = 100/partida e λb = 150/partida, respondendo quantas vezes podemos esperar que o time RedCats ganha. \n"
   ]
  },
  {
   "cell_type": "code",
   "execution_count": null,
   "metadata": {},
   "outputs": [],
   "source": []
  },
  {
   "cell_type": "markdown",
   "metadata": {},
   "source": [
    "9.2 Compare os resultados e explique"
   ]
  },
  {
   "cell_type": "markdown",
   "metadata": {},
   "source": []
  }
 ],
 "metadata": {
  "kernelspec": {
   "display_name": "venv",
   "language": "python",
   "name": "python3"
  },
  "language_info": {
   "codemirror_mode": {
    "name": "ipython",
    "version": 3
   },
   "file_extension": ".py",
   "mimetype": "text/x-python",
   "name": "python",
   "nbconvert_exporter": "python",
   "pygments_lexer": "ipython3",
   "version": "3.11.2"
  }
 },
 "nbformat": 4,
 "nbformat_minor": 2
}
